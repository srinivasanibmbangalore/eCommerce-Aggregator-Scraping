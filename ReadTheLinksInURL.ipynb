{
  "nbformat": 4,
  "nbformat_minor": 0,
  "metadata": {
    "colab": {
      "name": "ReadTheLinksInURL.ipynb",
      "provenance": [],
      "authorship_tag": "ABX9TyPyG2KfXPTwdaCDK1MlZzVv",
      "include_colab_link": true
    },
    "kernelspec": {
      "name": "python3",
      "display_name": "Python 3"
    }
  },
  "cells": [
    {
      "cell_type": "markdown",
      "metadata": {
        "id": "view-in-github",
        "colab_type": "text"
      },
      "source": [
        "<a href=\"https://colab.research.google.com/github/srinivasanibmbangalore/eCommerce-Aggregator-Scraping/blob/master/ReadTheLinksInURL.ipynb\" target=\"_parent\"><img src=\"https://colab.research.google.com/assets/colab-badge.svg\" alt=\"Open In Colab\"/></a>"
      ]
    },
    {
      "cell_type": "markdown",
      "metadata": {
        "id": "aqGm3Dehnub6",
        "colab_type": "text"
      },
      "source": [
        "Creating a Link Extractor is a common requirement across many use-cases. This simple program will identify all the links starting from a specific URL"
      ]
    },
    {
      "cell_type": "code",
      "metadata": {
        "id": "qm9u6AWWotl-",
        "colab_type": "code",
        "colab": {}
      },
      "source": [
        "from urllib.request import urlopen\n",
        "import re"
      ],
      "execution_count": 0,
      "outputs": []
    },
    {
      "cell_type": "code",
      "metadata": {
        "id": "YvbfyE8UqlJe",
        "colab_type": "code",
        "colab": {}
      },
      "source": [
        "__author__ = \"Srinivasan Subramaniam\"\n",
        "__copyright__ = \"None\"\n",
        "__credits__ = [\"Multiple Books on Scrapy and Beautiful Soup\"]\n",
        "__license__ = \"GPL\"\n",
        "__version__ = \"1.0.0\"\n",
        "__maintainer__ = \"Srinivasan Subramaniam\"\n",
        "__email__ = \"srinivasan.ibmbangalore@gmail.com\"\n",
        "__status__ = \"Production"
      ],
      "execution_count": 0,
      "outputs": []
    },
    {
      "cell_type": "code",
      "metadata": {
        "id": "KvGGsc_5pZ_7",
        "colab_type": "code",
        "colab": {}
      },
      "source": [
        "def myurlopen(url):\n",
        "  return urlopen(url).read().decode('utf-8') #The urlopen function works transparently with proxies which do not require authentication."
      ],
      "execution_count": 0,
      "outputs": []
    },
    {
      "cell_type": "code",
      "metadata": {
        "id": "kpdqUIY4qCvC",
        "colab_type": "code",
        "colab": {}
      },
      "source": [
        "def extract_hyperlinks(page):\n",
        "  link_regex = re.compile('<a[^>]+href=[\"\\'](.*?)[\"\\']',re.IGNORECASE) #The purpose of the compile method is to compile the regex pattern which will be used for matching later. \n",
        "  return link_regex.findall(page)"
      ],
      "execution_count": 0,
      "outputs": []
    },
    {
      "cell_type": "code",
      "metadata": {
        "id": "jtm0rpDjsgFp",
        "colab_type": "code",
        "colab": {
          "base_uri": "https://localhost:8080/",
          "height": 1000
        },
        "outputId": "a082fe98-2c02-41f5-ba44-13f43fff1e7c"
      },
      "source": [
        "target_url = 'https://www.alibaba.com/trade/search?fsb=y&IndexArea=product_en&CatId=&SearchText=laptop&viewtype=G'\n",
        "download_page = myurlopen(target_url)\n",
        "links = extract_hyperlinks(download_page)\n",
        "for link in links:\n",
        "    print(link)"
      ],
      "execution_count": 9,
      "outputs": [
        {
          "output_type": "stream",
          "text": [
            "javascript:;\n",
            "javascript:;\n",
            "//www.alibaba.com/\n",
            "//www.alibaba.com/\n",
            "javascript:;\n",
            "//passport.alibaba.com/icbu_login.htm?tracelog=hd_signin\n",
            "//usmy.alibaba.com/user/join/join_step1.htm?tracelog=hd_joinfree\n",
            "//message.alibaba.com\n",
            "//message.alibaba.com\n",
            "//biz.alibaba.com/order/list.htm?tracelog=hd_order\n",
            "//biz.alibaba.com/order/list.htm?tracelog=hd_order\n",
            "//carp.alibaba.com/purchaseList?tracelog=miniCart\n",
            "//carp.alibaba.com/purchaseList?tracelog=miniCart\n",
            "//i.alibaba.com/?tracelog=hd_ma\n",
            "//i.alibaba.com/?tracelog=hd_ma\n",
            "//www.alibaba.com/bulk?tracelog=fromhomeheader\n",
            "//www.alibaba.com/tradeshows/calendar?tracelog=fromhomeheader\n",
            "javascript:void(0)\n",
            "javascript:void(0)\n",
            "javascript:void(0)\n",
            "//app.alibaba.com/?tracelog=header_cor_app\n",
            "https://activity.alibaba.com/page/44d8a2d3.html\n",
            "//www.alibaba.com/products/laptop.html?IndexArea=product_en&viewtype=G&tab=custom\n",
            "//www.alibaba.com/products/laptop.html?IndexArea=product_en&viewtype=G&tab=rts\n",
            "//www.alibaba.com/products/laptop.html?IndexArea=product_en&amp;viewtype=G&amp;productTag=1200000338\n",
            "//www.alibaba.com/products/laptop.html?IndexArea=product_en&amp;viewtype=G&amp;productTag=1200000336\n",
            "//www.alibaba.com/products/laptop.html?IndexArea=product_en&amp;viewtype=G&amp;productTag=1200000337\n",
            "//www.alibaba.com/products/laptop.html?IndexArea=product_en&amp;viewtype=L\n",
            "//www.alibaba.com/product-detail/Global-Promo-14-Inch-HD-Ultra_62426602400.html\n",
            "//www.alibaba.com/product-detail/Global-Promo-14-Inch-HD-Ultra_62426602400.html\n",
            "//szlaptop.en.alibaba.com/company_profile.html#top-nav-bar\n",
            "//fuwu.alibaba.com/gps/buyer.htm\n",
            "//tradeassurance.alibaba.com?tracelog=from_list_item\n",
            "//szlaptop.en.alibaba.com/company_profile/transaction_level.html\n",
            "//szlaptop.en.alibaba.com/company_profile/feedback.html\n",
            "//szlaptop.en.alibaba.com/company_profile/feedback.html?clusterId=773\n",
            "//szlaptop.en.alibaba.com/company_profile/feedback.html?clusterId=240\n",
            "//message.alibaba.com/msgsend/contact.htm?action=contact_action&amp;appForm=s_en&amp;chkProductIds=62426602400&amp;chkProductIds_f=IDX1DbaefxFlzrCYVGjmN6Qnk3vI4NsKttVGK3DkYMod4jmhF9sNKHPUW_s4a_vCUdE8&amp;tracelog=contactOrg&amp;mloca=main_en_search_list\n",
            "//www.alibaba.com/product-detail/Factory-direct-sales-ultra-thin-ultra_62456957538.html?s=p\n",
            "//www.alibaba.com/product-detail/Factory-direct-sales-ultra-thin-ultra_62456957538.html?s=p\n",
            "//pengfaies01.en.alibaba.com/company_profile.html#top-nav-bar\n",
            "//fuwu.alibaba.com/gps/buyer.htm\n",
            "//tradeassurance.alibaba.com?tracelog=from_list_item\n",
            "//message.alibaba.com/msgsend/contact.htm?action=contact_action&amp;appForm=s_en&amp;chkProductIds=62456957538&amp;chkProductIds_f=IDX1duqEbhBacYqgXgN6otWRPL6W_UagxIz9AbFN2wcFKmI3K35dXHqqBcWqYoEbICmk&amp;tracelog=contactOrg&amp;mloca=main_en_search_list\n",
            "//www.alibaba.com/product-detail/HUAWEI-MateBook-X-Pro-Laptop-13_62451394310.html?s=p\n",
            "//www.alibaba.com/product-detail/HUAWEI-MateBook-X-Pro-Laptop-13_62451394310.html?s=p\n",
            "//czrmzl.en.alibaba.com/company_profile.html#top-nav-bar\n",
            "//fuwu.alibaba.com/gps/buyer.htm\n",
            "//tradeassurance.alibaba.com?tracelog=from_list_item\n",
            "//message.alibaba.com/msgsend/contact.htm?action=contact_action&amp;appForm=s_en&amp;chkProductIds=62451394310&amp;chkProductIds_f=IDX1dg-Gh-sPVv5IgLXXUuh0NwvFQ4RrMVUF0stfJGl3OTs4Lde0QGwWUKvfAk3BDGsq&amp;tracelog=contactOrg&amp;mloca=main_en_search_list\n",
            "//www.alibaba.com/product-detail/Ultra-Thin-Gaming-Laptop-Intel-2_62290678077.html\n",
            "//www.alibaba.com/product-detail/Ultra-Thin-Gaming-Laptop-Intel-2_62290678077.html\n",
            "//szlaptop.en.alibaba.com/company_profile.html#top-nav-bar\n",
            "//fuwu.alibaba.com/gps/buyer.htm\n",
            "//tradeassurance.alibaba.com?tracelog=from_list_item\n",
            "//szlaptop.en.alibaba.com/company_profile/transaction_level.html\n",
            "//szlaptop.en.alibaba.com/company_profile/feedback.html\n",
            "//szlaptop.en.alibaba.com/company_profile/feedback.html?clusterId=773\n",
            "//szlaptop.en.alibaba.com/company_profile/feedback.html?clusterId=240\n",
            "//message.alibaba.com/msgsend/contact.htm?action=contact_action&amp;appForm=s_en&amp;chkProductIds=62290678077&amp;chkProductIds_f=IDX1ExNIak2oH-kSw8Bpl8RzGM-TrnGPUQ8tU8LdPmv8eEP6XM0pcoHVYITcW_6aCJ-a&amp;tracelog=contactOrg&amp;mloca=main_en_search_list\n",
            "//www.alibaba.com/product-detail/New-wholesale-laptops-15-6-inch_60773111865.html\n",
            "//www.alibaba.com/product-detail/New-wholesale-laptops-15-6-inch_60773111865.html\n",
            "//szfengnian.en.alibaba.com/company_profile.html#top-nav-bar\n",
            "//fuwu.alibaba.com/gps/buyer.htm\n",
            "//tradeassurance.alibaba.com?tracelog=from_list_item\n",
            "//szfengnian.en.alibaba.com/company_profile/transaction_level.html\n",
            "//szfengnian.en.alibaba.com/company_profile/feedback.html\n",
            "//szfengnian.en.alibaba.com/company_profile/feedback.html?clusterId=1572\n",
            "//szfengnian.en.alibaba.com/company_profile/feedback.html?clusterId=571\n",
            "//message.alibaba.com/msgsend/contact.htm?action=contact_action&amp;appForm=s_en&amp;chkProductIds=60773111865&amp;chkProductIds_f=IDX1cUioyZ_p7jG_kGN_rp3OPJPYSixhyAfCsIGoSTsulW7vy-iRf-a4bP0S-yPRzdX0&amp;tracelog=contactOrg&amp;mloca=main_en_search_list\n",
            "//www.alibaba.com/product-detail/Best-Seller-Product-YEPO-for-Apple_60535115222.html\n",
            "//www.alibaba.com/product-detail/Best-Seller-Product-YEPO-for-Apple_60535115222.html\n",
            "//szyepo.en.alibaba.com/company_profile.html#top-nav-bar\n",
            "//fuwu.alibaba.com/gps/buyer.htm\n",
            "//tradeassurance.alibaba.com?tracelog=from_list_item\n",
            "//szyepo.en.alibaba.com/company_profile/transaction_level.html\n",
            "//szyepo.en.alibaba.com/company_profile/feedback.html\n",
            "//szyepo.en.alibaba.com/company_profile/feedback.html?clusterId=886\n",
            "//szyepo.en.alibaba.com/company_profile/feedback.html?clusterId=1578\n",
            "//message.alibaba.com/msgsend/contact.htm?action=contact_action&amp;appForm=s_en&amp;chkProductIds=60535115222&amp;chkProductIds_f=IDX1m1V3W9ThyVHxlG5yLlMaBTKOfK3MwTG-tD95B9jq_jdTEKfreC0V7QE9UiMwu5QB&amp;tracelog=contactOrg&amp;mloca=main_en_search_list\n",
            "//www.alibaba.com/product-detail/2019-New-Gaming-Laptop-MSI-P65_62232254953.html\n",
            "//www.alibaba.com/product-detail/2019-New-Gaming-Laptop-MSI-P65_62232254953.html\n",
            "//szbsl.en.alibaba.com/company_profile.html#top-nav-bar\n",
            "//fuwu.alibaba.com/gps/buyer.htm\n",
            "//tradeassurance.alibaba.com?tracelog=from_list_item\n",
            "//szbsl.en.alibaba.com/company_profile/transaction_level.html\n",
            "//szbsl.en.alibaba.com/company_profile/feedback.html\n",
            "//szbsl.en.alibaba.com/company_profile/feedback.html?clusterId=773\n",
            "//szbsl.en.alibaba.com/company_profile/feedback.html?clusterId=571\n",
            "//message.alibaba.com/msgsend/contact.htm?action=contact_action&amp;appForm=s_en&amp;chkProductIds=62232254953&amp;chkProductIds_f=IDX10sptbFxNgJjuoj8R4hJUO2FHb2ad9QVQYSS9MEMhk825K60Ybnh-Y_F9i2PXw2Tz&amp;tracelog=contactOrg&amp;mloca=main_en_search_list\n",
            "//www.alibaba.com/product-detail/11-6-inch-yoga-laptop-with_60618654805.html\n",
            "//www.alibaba.com/product-detail/11-6-inch-yoga-laptop-with_60618654805.html\n",
            "//elovo.en.alibaba.com/company_profile.html#top-nav-bar\n",
            "//fuwu.alibaba.com/gps/buyer.htm\n",
            "//tradeassurance.alibaba.com?tracelog=from_list_item\n",
            "//elovo.en.alibaba.com/company_profile/transaction_level.html\n",
            "//elovo.en.alibaba.com/company_profile/feedback.html\n",
            "//elovo.en.alibaba.com/company_profile/feedback.html?clusterId=1576\n",
            "//elovo.en.alibaba.com/company_profile/feedback.html?clusterId=1559\n",
            "//message.alibaba.com/msgsend/contact.htm?action=contact_action&amp;appForm=s_en&amp;chkProductIds=60618654805&amp;chkProductIds_f=IDX12jGVxuxu0FRJt-Q0vcCOX6JLeodhscvRGJbStTTxcMWGtMvgQud0W0l6qQAYBh6U&amp;tracelog=contactOrg&amp;mloca=main_en_search_list\n",
            "//app.alibaba.com/?tracelog=footer_app_ios\n",
            "//app.alibaba.com/?tracelog=footer_app_android\n",
            "//activity.alibaba.com/page/alibabasupplier.html?tracelog=footer_app_ta\n",
            "//www.facebook.com/Alibaba.comGlobal\n",
            "//twitter.com/AlibabaB2B\n",
            "//www.youtube.com/user/TeamAlibaba\n",
            "//www.linkedin.com/company/alibaba-com\n",
            "//www.alibaba.com\n",
            "//spanish.alibaba.com\n",
            "//portuguese.alibaba.com\n",
            "//german.alibaba.com\n",
            "//french.alibaba.com\n",
            "//italian.alibaba.com\n",
            "//hindi.alibaba.com\n",
            "//russian.alibaba.com\n",
            "//korean.alibaba.com\n",
            "//japanese.alibaba.com\n",
            "//arabic.alibaba.com\n",
            "//thai.alibaba.com\n",
            "//turkish.alibaba.com\n",
            "//dutch.alibaba.com/\n",
            "//vietnamese.alibaba.com/\n",
            "//indonesian.alibaba.com/\n",
            "//hebrew.alibaba.com/\n",
            "http://www.aliexpress.com/\n",
            "http://www.1688.com\n",
            "https://world.taobao.com/\n",
            "https://global.alipay.com/\n",
            "http://taobao.lazada.sg/\n",
            "https://www.taobao.tw/\n",
            "//onetouch.alibaba.com/\n",
            "//www.alibaba.com/showroom/showroom.html\n",
            "//www.alibaba.com/countrysearch/continent.html\n",
            "//www.alibaba.com/suppliers/supplier.html\n",
            "//wholesaler.alibaba.com/sitemap/index.htm\n",
            "//ads.alibaba.com/\n",
            "//rule.alibaba.com/rule/detail/2047.htm\n",
            "//ipp.alibabagroup.com/\n",
            "//rule.alibaba.com/rule/detail/2034.htm\n",
            "http://rule.alibaba.com/rule/detail/2041.htm\n",
            "//rule.alibaba.com/rule/detail/5038.htm?tracelog=footer_rule_5038\n",
            "http://idinfo.zjamr.zj.gov.cn//bscx.do?method=lzxx&id=3301083301080000022169\n",
            "//www.alibaba.com/trade/servlet/page/static/copyright_policy\n",
            "http://www.beian.gov.cn/portal/registerSystemInfo?recordcode=33010002000092\n",
            "http://beian.miit.gov.cn\n"
          ],
          "name": "stdout"
        }
      ]
    }
  ]
}